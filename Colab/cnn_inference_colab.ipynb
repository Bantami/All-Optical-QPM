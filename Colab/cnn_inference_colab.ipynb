{
  "cells": [
    {
      "cell_type": "markdown",
      "metadata": {
        "id": "view-in-github",
        "colab_type": "text"
      },
      "source": [
        "<a href=\"https://colab.research.google.com/github/Bantami/All-Optical-QPM/blob/main/Colab/cnn_inference_colab.ipynb\" target=\"_parent\"><img src=\"https://colab.research.google.com/assets/colab-badge.svg\" alt=\"Open In Colab\"/></a>"
      ]
    },
    {
      "cell_type": "markdown",
      "id": "2fa2de7b-930a-48ad-a51c-b2077dc4d907",
      "metadata": {
        "id": "2fa2de7b-930a-48ad-a51c-b2077dc4d907"
      },
      "source": [
        "### Colab Setting up Scripts\n",
        "\n",
        "\n",
        "*   Downloading repository, dataset and models\n",
        "*   Install pip packages\n"
      ]
    },
    {
      "cell_type": "code",
      "execution_count": null,
      "id": "Jt7a3uDYO2fH",
      "metadata": {
        "colab": {
          "base_uri": "https://localhost:8080/"
        },
        "id": "Jt7a3uDYO2fH",
        "outputId": "60a768ad-d921-4304-cedc-41e3fa3701c8"
      },
      "outputs": [
        {
          "name": "stdout",
          "output_type": "stream",
          "text": [
            "Cloning into 'All-Optical-QPM'...\n",
            "remote: Enumerating objects: 166, done.\u001b[K\n",
            "remote: Counting objects: 100% (166/166), done.\u001b[K\n",
            "remote: Compressing objects: 100% (119/119), done.\u001b[K\n",
            "remote: Total 166 (delta 84), reused 100 (delta 44), pack-reused 0\u001b[K\n",
            "Receiving objects: 100% (166/166), 1.77 MiB | 12.65 MiB/s, done.\n",
            "Resolving deltas: 100% (84/84), done.\n",
            "\u001b[K     |████████████████████████████████| 232 kB 7.3 MB/s \n",
            "\u001b[K     |████████████████████████████████| 49.9 MB 48 kB/s \n",
            "\u001b[31mERROR: pip's dependency resolver does not currently take into account all the packages that are installed. This behaviour is the source of the following dependency conflicts.\n",
            "albumentations 0.1.12 requires imgaug<0.2.7,>=0.2.5, but you have imgaug 0.2.9 which is incompatible.\u001b[0m\n",
            "\u001b[?25hDownloading...\n",
            "From: https://drive.google.com/uc?id=1ickDfs6bA-YM7RQSaMPRqFnC7YApjW8e\n",
            "To: /content/hela.zip\n",
            "100% 303M/303M [00:01<00:00, 242MB/s]\n",
            "Downloading...\n",
            "From: https://drive.google.com/uc?id=1tHBWjNJPRHf1VX0XJicLIKs8av43_TPz\n",
            "To: /content/models.zip\n",
            "100% 3.27M/3.27M [00:00<00:00, 269MB/s]\n"
          ]
        }
      ],
      "source": [
        "!git clone https://github.com/Bantami/All-Optical-QPM.git\n",
        "\n",
        "!chmod 755 All-Optical-QPM/colab_setup.sh\n",
        "!All-Optical-QPM/colab_setup.sh"
      ]
    },
    {
      "cell_type": "markdown",
      "id": "ed966b90-8011-4fe4-b3b7-90fe3188258c",
      "metadata": {
        "id": "ed966b90-8011-4fe4-b3b7-90fe3188258c"
      },
      "source": [
        "### Import Libraries"
      ]
    },
    {
      "cell_type": "code",
      "execution_count": null,
      "id": "b20b1b63-f4ef-460d-b390-c5137461943e",
      "metadata": {
        "id": "b20b1b63-f4ef-460d-b390-c5137461943e"
      },
      "outputs": [],
      "source": [
        "import sys\n",
        "sys.path.append('All-Optical-QPM')\n",
        "\n",
        "from torch import nn\n",
        "from collections import OrderedDict\n",
        "import torch\n",
        "import numpy as np\n",
        "import matplotlib.pyplot as plt\n",
        "import cv2\n",
        "from skimage.transform import resize\n",
        "from torchvision import datasets, transforms\n",
        "import math\n",
        "from torch.utils.data import Dataset\n",
        "from torch.utils.data import DataLoader\n",
        "from PIL import Image\n",
        "import glob\n",
        "import os\n",
        "import json\n",
        "\n",
        "from modules.dataloaders import *\n",
        "from modules.diffraction import *\n",
        "from modules.other_models import *\n",
        "from modules.eval_metrics import *\n",
        "from modules.vis_utils import *"
      ]
    },
    {
      "cell_type": "markdown",
      "id": "e4f5158a-c49e-4d0c-b17a-0fb22b511a27",
      "metadata": {
        "id": "e4f5158a-c49e-4d0c-b17a-0fb22b511a27"
      },
      "source": [
        "## Use Pretrained Models: Model Selection and Loading"
      ]
    },
    {
      "cell_type": "code",
      "execution_count": null,
      "id": "21aec3bf-5619-4f0f-af8d-f97759e03849",
      "metadata": {
        "id": "21aec3bf-5619-4f0f-af8d-f97759e03849"
      },
      "outputs": [],
      "source": [
        "pretrained_models = {\n",
        "    'MNIST'       : 'MNIST_cnn',\n",
        "    'HeLa [0,Pi]' : 'Hela_pi_cnn',\n",
        "    'HeLa [0,2Pi]': 'Hela_2pi_cnn',\n",
        "\n",
        "} \n",
        "\n",
        "# Selecting a pretrained model\n",
        "data_type = 'HeLa [0,Pi]'\n",
        "model = pretrained_models[data_type]"
      ]
    },
    {
      "cell_type": "code",
      "execution_count": null,
      "id": "c92a4af2-7ef1-4829-b80b-65d434fce72d",
      "metadata": {
        "id": "c92a4af2-7ef1-4829-b80b-65d434fce72d"
      },
      "outputs": [],
      "source": [
        "path = 'models/'\n",
        "folder = path+f'{model}'\n",
        "\n",
        "model_name = '.pth'\n",
        "\n",
        "saved = torch.load(folder + model_name,map_location='cuda:0')\n",
        "\n",
        "cfg   = saved['cfg']\n",
        "cfg['device'] = 'cuda:0'"
      ]
    },
    {
      "cell_type": "code",
      "execution_count": null,
      "id": "b1cc8e47-c6f2-402a-bafb-bd8cfff9cf8e",
      "metadata": {
        "colab": {
          "base_uri": "https://localhost:8080/"
        },
        "id": "b1cc8e47-c6f2-402a-bafb-bd8cfff9cf8e",
        "outputId": "5638b47f-7ba6-48f5-a623-963e34737b47"
      },
      "outputs": [
        {
          "data": {
            "text/plain": [
              "complex_cnn(\n",
              "  (conv1): ComplexConv2d(\n",
              "    (conv_r): Conv2d(1, 1, kernel_size=(3, 3), stride=(1, 1), padding=(1, 1), bias=False)\n",
              "    (conv_i): Conv2d(1, 1, kernel_size=(3, 3), stride=(1, 1), padding=(1, 1), bias=False)\n",
              "  )\n",
              "  (conv2): ComplexConv2d(\n",
              "    (conv_r): Conv2d(1, 1, kernel_size=(3, 3), stride=(1, 1), padding=(1, 1), bias=False)\n",
              "    (conv_i): Conv2d(1, 1, kernel_size=(3, 3), stride=(1, 1), padding=(1, 1), bias=False)\n",
              "  )\n",
              "  (conv3): ComplexConv2d(\n",
              "    (conv_r): Conv2d(1, 1, kernel_size=(3, 3), stride=(1, 1), padding=(1, 1), bias=False)\n",
              "    (conv_i): Conv2d(1, 1, kernel_size=(3, 3), stride=(1, 1), padding=(1, 1), bias=False)\n",
              "  )\n",
              "  (conv4): ComplexConv2d(\n",
              "    (conv_r): Conv2d(1, 1, kernel_size=(3, 3), stride=(1, 1), padding=(1, 1), bias=False)\n",
              "    (conv_i): Conv2d(1, 1, kernel_size=(3, 3), stride=(1, 1), padding=(1, 1), bias=False)\n",
              "  )\n",
              "  (conv5): ComplexConv2d(\n",
              "    (conv_r): Conv2d(1, 1, kernel_size=(3, 3), stride=(1, 1), padding=(1, 1))\n",
              "    (conv_i): Conv2d(1, 1, kernel_size=(3, 3), stride=(1, 1), padding=(1, 1))\n",
              "  )\n",
              ")"
            ]
          },
          "execution_count": 19,
          "metadata": {},
          "output_type": "execute_result"
        }
      ],
      "source": [
        "if 'last_bias' not in cfg.keys() or 'output_scale' not in cfg.keys(): \n",
        "    # Adding missing configurations required for the current model implementation function. Default configs are used\n",
        "    cfg['last_bias'] = True\n",
        "    cfg['all_bias'] = False\n",
        "    cfg['output_scale'] = 1\n",
        "    cfg['output_scale_learnable'] = False\n",
        "\n",
        "model = eval(cfg['model'])(cfg).to(cfg['device'])\n",
        "model.load_state_dict(saved['state_dict'])\n",
        "model.eval()"
      ]
    },
    {
      "cell_type": "markdown",
      "id": "2cb06451-7fb9-49f5-a42e-39b0ce127b34",
      "metadata": {
        "id": "2cb06451-7fb9-49f5-a42e-39b0ce127b34"
      },
      "source": [
        "### Loading Configs"
      ]
    },
    {
      "cell_type": "code",
      "execution_count": null,
      "id": "f8e443fa-b218-4cce-9c6b-f880afb99e81",
      "metadata": {
        "colab": {
          "base_uri": "https://localhost:8080/"
        },
        "id": "f8e443fa-b218-4cce-9c6b-f880afb99e81",
        "outputId": "e45dc312-0286-4987-c467-e2b5b03e54e9"
      },
      "outputs": [
        {
          "name": "stdout",
          "output_type": "stream",
          "text": [
            "get_qpm_np_dataloaders\n",
            "68\n"
          ]
        }
      ],
      "source": [
        "torch.manual_seed(cfg['torch_seed'])\n",
        "\n",
        "shrinkFactor = cfg['shrink_factor'] if 'shrink_factor' in cfg else 1\n",
        "img_size     = cfg['img_size']\n",
        "angle_max    = eval(cfg['angle_max'])\n",
        "inp_circular = cfg['input_circular'] if 'input_circular' in cfg.keys() else False # If the input field is propagated through a circular aperture\n",
        "device = cfg['device']\n",
        "\n",
        "if(shrinkFactor!=1):\n",
        "    # To obtain the starting position and ending position of the original image within the padded image\n",
        "    csize = int(img_size/shrinkFactor)\n",
        "    spos  = int((img_size - csize)/2)\n",
        "    epos  = spos + csize\n",
        "else:\n",
        "    spos = 0\n",
        "    epos = img_size\n",
        "    \n",
        "dataloader = eval(cfg['get_dataloaders'])\n",
        "print(cfg['get_dataloaders'])\n",
        "\n",
        "train_loader, val_loader =  dataloader(cfg['img_size'], cfg['train_batch_size'], cfg['torch_seed'],  task_type= cfg['task_type'], shrinkFactor = shrinkFactor, cfg = cfg)\n",
        "print(len(val_loader))"
      ]
    },
    {
      "cell_type": "markdown",
      "id": "0eaaaedb-0510-42db-b408-ed986139f1eb",
      "metadata": {
        "id": "0eaaaedb-0510-42db-b408-ed986139f1eb"
      },
      "source": [
        "### Run Inference on unseen data"
      ]
    },
    {
      "cell_type": "code",
      "execution_count": null,
      "id": "96c4fe57-22b8-4248-8f75-e1761a67874b",
      "metadata": {
        "colab": {
          "base_uri": "https://localhost:8080/"
        },
        "id": "96c4fe57-22b8-4248-8f75-e1761a67874b",
        "outputId": "65c00a4b-9540-4f7c-835f-3efbbb6106a6"
      },
      "outputs": [
        {
          "name": "stdout",
          "output_type": "stream",
          "text": [
            "Mean SSIM =  0.9051738451508915\n"
          ]
        }
      ],
      "source": [
        "ssim_scores = []\n",
        "\n",
        "for idx, (x, y) in enumerate(val_loader): # Test loop   \n",
        "    gt = x[:,0].to(cfg['device']) # Groung truth image (input)\n",
        "    pred_img,out_scale = model(gt) \n",
        "\n",
        "    \n",
        "    pred_img = pred_img[:,spos:epos,spos:epos] # Crop the reconstructed image\n",
        "    gt       = gt[:,spos:epos,spos:epos]       # Crop the groundtruth image\n",
        "    \n",
        "    pred_out = out_scale * pred_img.abs()**2\n",
        "\n",
        "    if(cfg['get_dataloaders']==\"get_mnist_dataloaders\"):\n",
        "        gt_angle = gt.angle()/angle_max\n",
        "    else:\n",
        "        # CLIP ANGLE TO -> [0, angle_max]\n",
        "        y = torch.clip(y, min= 0, max= angle_max).to(device)\n",
        "        gt_angle = y[:,0].to(cfg['device'])[:,spos:epos,spos:epos] / angle_max\n",
        "        \n",
        "    ssim_scores.append(ssim_pytorch(pred_out.float(), gt_angle.float(), k= 11,range_independent=False))\n",
        "    \n",
        "\n",
        "print(\"Mean SSIM = \", np.mean(ssim_scores))"
      ]
    },
    {
      "cell_type": "code",
      "execution_count": null,
      "id": "4a1e641f-7530-42ad-8640-453d1d5df6d5",
      "metadata": {
        "colab": {
          "base_uri": "https://localhost:8080/",
          "height": 354
        },
        "id": "4a1e641f-7530-42ad-8640-453d1d5df6d5",
        "outputId": "cb09b948-d235-4412-9a90-60f16ffb7d05"
      },
      "outputs": [
        {
          "data": {
            "text/plain": [
              "<matplotlib.image.AxesImage at 0x7f5f2b0a2650>"
            ]
          },
          "execution_count": 22,
          "metadata": {},
          "output_type": "execute_result"
        },
        {
          "data": {
            "image/png": "[encoded data removed]",
            "text/plain": [
              "<Figure size 360x360 with 1 Axes>"
            ]
          },
          "metadata": {
            "needs_background": "light"
          },
          "output_type": "display_data"
        }
      ],
      "source": [
        "# Plotting ground truth images\n",
        "gt_img_set = gt.unsqueeze(dim= 1)[10:14]\n",
        "\n",
        "k = gt_img_set.angle().detach().cpu()\n",
        "k = cv2.cvtColor(make_grid(k, nrow=2, padding= 1).permute(1,2,0).numpy(), cv2.COLOR_RGB2GRAY)%(2*np.pi)\n",
        "\n",
        "\n",
        "plt.figure(figsize=(5,5))\n",
        "plt.title(\"Grountruth Phase\")\n",
        "plt.imshow(k)"
      ]
    },
    {
      "cell_type": "code",
      "execution_count": null,
      "id": "4fbc648b-e042-4ee5-b5dc-d16fb4c2a07b",
      "metadata": {
        "colab": {
          "base_uri": "https://localhost:8080/",
          "height": 354
        },
        "id": "4fbc648b-e042-4ee5-b5dc-d16fb4c2a07b",
        "outputId": "4da40f6e-a44f-46ea-84fb-0b7f6f1d7dea"
      },
      "outputs": [
        {
          "data": {
            "text/plain": [
              "Text(0.5, 1.0, 'Reconstructed : Intensity')"
            ]
          },
          "execution_count": 23,
          "metadata": {},
          "output_type": "execute_result"
        },
        {
          "data": {
            "image/png": "[encoded data removed]",
            "text/plain": [
              "<Figure size 360x360 with 1 Axes>"
            ]
          },
          "metadata": {
            "needs_background": "light"
          },
          "output_type": "display_data"
        }
      ],
      "source": [
        "# Plotting the corresponding reconstructed images\n",
        "pred_img_set = pred_out.unsqueeze(dim= 1)[10:14]\n",
        " \n",
        "\n",
        "plt.figure(figsize=(5,5))\n",
        "plt.imshow(cv2.cvtColor(make_grid(pred_img_set.abs().detach().cpu(), nrow=2, padding= 1).permute(1,2,0).numpy(), cv2.COLOR_RGB2GRAY),vmin = 0, vmax =1)\n",
        "plt.title('Reconstructed : Intensity')"
      ]
    }
  ],
  "metadata": {
    "accelerator": "GPU",
    "colab": {
      "name": "cnn_inference.ipynb",
      "provenance": [],
      "include_colab_link": true
    },
    "kernelspec": {
      "display_name": "FYPD2NN",
      "language": "python",
      "name": "fypd2nn"
    },
    "language_info": {
      "codemirror_mode": {
        "name": "ipython",
        "version": 3
      },
      "file_extension": ".py",
      "mimetype": "text/x-python",
      "name": "python",
      "nbconvert_exporter": "python",
      "pygments_lexer": "ipython3",
      "version": "3.6.13"
    }
  },
  "nbformat": 4,
  "nbformat_minor": 5
}