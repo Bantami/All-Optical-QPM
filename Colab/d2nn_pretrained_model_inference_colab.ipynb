{
 "cells": [
  {
   "cell_type": "markdown",
   "metadata": {
    "colab_type": "text",
    "id": "view-in-github"
   },
   "source": [
    "<a href=\"https://colab.research.google.com/github/Bantami/All-Optical-QPM/blob/main/Colab/d2nn_pretrained_model_inference_colab.ipynb\" target=\"_parent\"><img src=\"https://colab.research.google.com/assets/colab-badge.svg\" alt=\"Open In Colab\"/></a>"
   ]
  },
  {
   "cell_type": "markdown",
   "metadata": {
    "id": "eMbCZ9N6ziQA"
   },
   "source": [
    "### Colab Setting up Scripts\n",
    "\n",
    "\n",
    "*   Downloading repository, dataset and models\n",
    "*   Install pip packages\n"
   ]
  },
  {
   "cell_type": "code",
   "execution_count": 1,
   "metadata": {
    "colab": {
     "base_uri": "https://localhost:8080/"
    },
    "id": "qraa-JNE8rYb",
    "outputId": "b25cfc83-8c42-4931-ad41-497f9778f8b5"
   },
   "outputs": [
    {
     "name": "stdout",
     "output_type": "stream",
     "text": [
      "Cloning into 'All-Optical-QPM'...\n",
      "remote: Enumerating objects: 226, done.\u001b[K\n",
      "remote: Counting objects: 100% (41/41), done.\u001b[K\n",
      "remote: Compressing objects: 100% (30/30), done.\u001b[K\n",
      "remote: Total 226 (delta 19), reused 25 (delta 11), pack-reused 185\u001b[K\n",
      "Receiving objects: 100% (226/226), 4.23 MiB | 17.33 MiB/s, done.\n",
      "Resolving deltas: 100% (114/114), done.\n",
      "\u001b[K     |████████████████████████████████| 232 kB 8.2 MB/s \n",
      "\u001b[K     |████████████████████████████████| 49.9 MB 85 kB/s \n",
      "\u001b[31mERROR: pip's dependency resolver does not currently take into account all the packages that are installed. This behaviour is the source of the following dependency conflicts.\n",
      "albumentations 0.1.12 requires imgaug<0.2.7,>=0.2.5, but you have imgaug 0.2.9 which is incompatible.\u001b[0m\n",
      "\u001b[?25hDownloading...\n",
      "From: https://drive.google.com/uc?id=1ickDfs6bA-YM7RQSaMPRqFnC7YApjW8e\n",
      "To: /content/hela.zip\n",
      "100% 303M/303M [00:01<00:00, 286MB/s]\n",
      "Downloading...\n",
      "From: https://drive.google.com/uc?id=1tHBWjNJPRHf1VX0XJicLIKs8av43_TPz\n",
      "To: /content/models.zip\n",
      "100% 3.27M/3.27M [00:00<00:00, 260MB/s]\n"
     ]
    }
   ],
   "source": [
    "!git clone https://github.com/Bantami/All-Optical-QPM.git\n",
    "\n",
    "!chmod 755 All-Optical-QPM/colab_setup.sh\n",
    "!All-Optical-QPM/colab_setup.sh\n"
   ]
  },
  {
   "cell_type": "markdown",
   "metadata": {
    "id": "vOictpZaz0-B"
   },
   "source": [
    "### Import Libraries"
   ]
  },
  {
   "cell_type": "code",
   "execution_count": 2,
   "metadata": {
    "id": "TfmocUnt9B9o"
   },
   "outputs": [],
   "source": [
    "import sys\n",
    "sys.path.append('All-Optical-QPM')\n",
    "\n",
    "from torch import nn\n",
    "import torch\n",
    "import numpy as np\n",
    "import matplotlib.pyplot as plt\n",
    "import cv2\n",
    "from skimage.transform import resize\n",
    "from torchvision import datasets, transforms\n",
    "import math\n",
    "from torch.utils.data import Dataset\n",
    "from torch.utils.data import DataLoader\n",
    "from PIL import Image\n",
    "import glob\n",
    "import os\n",
    "import json\n",
    "\n",
    "from modules.dataloaders import *\n",
    "from modules.diffraction import *\n",
    "from modules.d2nn_models import *\n",
    "from modules.eval_metrics import *\n",
    "from modules.vis_utils import *"
   ]
  },
  {
   "cell_type": "markdown",
   "metadata": {
    "id": "nhW64MFTFN1F"
   },
   "source": [
    "### Select Pretrained Model and Load it"
   ]
  },
  {
   "cell_type": "code",
   "execution_count": 3,
   "metadata": {
    "id": "gYnvSZo69dsJ"
   },
   "outputs": [],
   "source": [
    "pretrained_models = {\n",
    "    'MNIST'       : '[128]_MNIST_Visible_559217',\n",
    "    'HeLa [0,Pi]' : '[128]_Hela_Pi_Visible_562592',\n",
    "    'HeLa [0,2Pi]': '[128]_Hela_2Pi_Visible_486934',\n",
    "\n",
    "} \n",
    "\n",
    "model_name = pretrained_models['HeLa [0,Pi]'] #### Specify which dataset you are considering"
   ]
  },
  {
   "cell_type": "code",
   "execution_count": 4,
   "metadata": {
    "colab": {
     "base_uri": "https://localhost:8080/"
    },
    "id": "g2Exof7Q_UBd",
    "outputId": "6d14e004-3ab1-4052-87da-64411401a245"
   },
   "outputs": [
    {
     "name": "stdout",
     "output_type": "stream",
     "text": [
      "No learnable transmission coefficients\n",
      "Learnable transmission coefficient: Amplitude and Phase\n",
      "Learnable transmission coefficient: Amplitude and Phase\n",
      "Learnable transmission coefficient: Amplitude and Phase\n",
      "Learnable transmission coefficient: Amplitude and Phase\n",
      "Learnable transmission coefficient: Amplitude and Phase\n",
      "Learnable transmission coefficient: Amplitude and Phase\n",
      "Learnable transmission coefficient: Amplitude and Phase\n",
      "Learnable transmission coefficient: Amplitude and Phase\n"
     ]
    },
    {
     "data": {
      "text/plain": [
       "d2nnASwWindow(\n",
       "  (layer_blocks): ModuleList(\n",
       "    (0): d2nnASwWindow_layer()\n",
       "    (1): d2nnASwWindow_layer()\n",
       "    (2): d2nnASwWindow_layer()\n",
       "    (3): d2nnASwWindow_layer()\n",
       "    (4): d2nnASwWindow_layer()\n",
       "    (5): d2nnASwWindow_layer()\n",
       "    (6): d2nnASwWindow_layer()\n",
       "    (7): d2nnASwWindow_layer()\n",
       "    (8): d2nnASwWindow_layer()\n",
       "  )\n",
       ")"
      ]
     },
     "execution_count": 4,
     "metadata": {},
     "output_type": "execute_result"
    }
   ],
   "source": [
    "folder = 'models/'\n",
    "\n",
    "model_name = f'{model_name}.pth'\n",
    "\n",
    "saved = torch.load(folder + model_name)\n",
    "\n",
    "cfg   = saved['cfg']\n",
    "\n",
    "model = eval(cfg['model'])(cfg).to(cfg['device'])\n",
    "model.load_state_dict(saved['state_dict'])\n",
    "model.eval()"
   ]
  },
  {
   "cell_type": "code",
   "execution_count": 4,
   "metadata": {
    "id": "eFzI1Wtj_dGL"
   },
   "outputs": [],
   "source": []
  },
  {
   "cell_type": "code",
   "execution_count": 4,
   "metadata": {
    "id": "eFXsbqXVAThG"
   },
   "outputs": [],
   "source": []
  },
  {
   "cell_type": "markdown",
   "metadata": {
    "id": "vAQlLQkjFWXw"
   },
   "source": [
    "### Loading Configs"
   ]
  },
  {
   "cell_type": "code",
   "execution_count": 5,
   "metadata": {
    "colab": {
     "base_uri": "https://localhost:8080/"
    },
    "id": "tKjqPuuaAVCZ",
    "outputId": "727fa15c-64af-4d82-ebfd-bca252498bbe"
   },
   "outputs": [
    {
     "name": "stdout",
     "output_type": "stream",
     "text": [
      "get_qpm_np_dataloaders\n",
      "68\n"
     ]
    }
   ],
   "source": [
    "torch.manual_seed(cfg['torch_seed'])\n",
    "\n",
    "shrinkFactor = cfg['shrink_factor'] if 'shrink_factor' in cfg else 1\n",
    "img_size     = cfg['img_size']\n",
    "angle_max    = eval(cfg['angle_max'])\n",
    "\n",
    "if(shrinkFactor!=1):\n",
    "    csize = int(img_size/shrinkFactor)\n",
    "    spos  = int((img_size - csize)/2)\n",
    "    epos  = spos + csize\n",
    "else:\n",
    "    spos = 0\n",
    "    epos = img_size\n",
    "    \n",
    "dataloader = eval(cfg['get_dataloaders'])\n",
    "print(cfg['get_dataloaders'])\n",
    "\n",
    "train_loader, val_loader =  dataloader(cfg['img_size'], cfg['train_batch_size'], cfg['torch_seed'],  task_type= cfg['task_type'], shrinkFactor = shrinkFactor, cfg = cfg)\n",
    "print(len(val_loader))"
   ]
  },
  {
   "cell_type": "markdown",
   "metadata": {
    "id": "Nwj2a83QFZ6D"
   },
   "source": [
    "### Run Inference on unseen data"
   ]
  },
  {
   "cell_type": "code",
   "execution_count": 6,
   "metadata": {
    "colab": {
     "base_uri": "https://localhost:8080/"
    },
    "id": "E9edMqHsAXDp",
    "outputId": "be8a89b0-2823-4b48-ffd7-66c19d67e88a"
   },
   "outputs": [
    {
     "name": "stdout",
     "output_type": "stream",
     "text": [
      "Mean SSIM =  0.625355923000504\n"
     ]
    }
   ],
   "source": [
    "ssim_scores = []\n",
    "\n",
    "for idx, (x, y) in enumerate(val_loader):\n",
    "    gt = x[:,0].to(cfg['device'])\n",
    "    pred_img,out_scale = model(gt)\n",
    "    out_bias = 0\n",
    "    \n",
    "\n",
    "    if cfg['output_scalebias_matrix']:\n",
    "        out_bias= out_bias[:,spos:epos,spos:epos] \n",
    "        out_scale= out_scale[:,spos:epos,spos:epos] \n",
    "\n",
    "    \n",
    "    pred_img = pred_img[:,spos:epos,spos:epos] # Crop the pred image\n",
    "    gt       = gt[:,spos:epos,spos:epos]       # Crop the groundtruth image\n",
    "    \n",
    "    if cfg['output_scalebias_for_INTENSITY']:\n",
    "        pred_out = out_scale * pred_img.abs()**2 + out_bias\n",
    "    else:\n",
    "        pred_out = (out_scale * pred_img.abs() + out_bias)**2\n",
    "\n",
    "    if(cfg['get_dataloaders']==\"get_mnist_dataloaders\"):\n",
    "        gt_angle = (gt.angle()/angle_max)\n",
    "    else:\n",
    "        gt_angle = y[:,0].to(cfg['device'])[:,spos:epos,spos:epos] / angle_max\n",
    "        \n",
    "    ssim_scores.append(ssim_pytorch(pred_out, gt_angle, k= 11,range_independent=False))\n",
    "\n",
    "    \n",
    "    \n",
    "\n",
    "print(\"Mean SSIM = \", np.mean(ssim_scores))"
   ]
  },
  {
   "cell_type": "code",
   "execution_count": 7,
   "metadata": {
    "colab": {
     "base_uri": "https://localhost:8080/",
     "height": 354
    },
    "id": "B9rDt8sTAzIU",
    "outputId": "9ee45cad-c9e4-4729-a509-970acab46d06"
   },
   "outputs": [
    {
     "data": {
      "text/plain": [
       "<matplotlib.image.AxesImage at 0x7f50bc19a6d0>"
      ]
     },
     "execution_count": 7,
     "metadata": {},
     "output_type": "execute_result"
    },
    {
     "data": {
      "image/png": "[encoded data removed]",
      "text/plain": [
       "<Figure size 360x360 with 1 Axes>"
      ]
     },
     "metadata": {
      "needs_background": "light"
     },
     "output_type": "display_data"
    }
   ],
   "source": [
    "gt_img_set = gt.unsqueeze(dim= 1)[10:14]\n",
    "\n",
    "k = gt_img_set.angle().detach().cpu()\n",
    "k = cv2.cvtColor(make_grid(k, nrow=2, padding= 1).permute(1,2,0).numpy(), cv2.COLOR_RGB2GRAY)%(2*np.pi)\n",
    "\n",
    "\n",
    "plt.figure(figsize=(5,5))\n",
    "plt.title(\"Grountruth Phase\")\n",
    "plt.imshow(k)"
   ]
  },
  {
   "cell_type": "code",
   "execution_count": 8,
   "metadata": {
    "colab": {
     "base_uri": "https://localhost:8080/",
     "height": 354
    },
    "id": "Jh1sNfnFA3rD",
    "outputId": "b9d65df3-c594-4292-a770-02b05dc89f68"
   },
   "outputs": [
    {
     "data": {
      "text/plain": [
       "Text(0.5, 1.0, 'Reconstructed : Intensity')"
      ]
     },
     "execution_count": 8,
     "metadata": {},
     "output_type": "execute_result"
    },
    {
     "data": {
      "image/png": "[encoded data removed]",
      "text/plain": [
       "<Figure size 360x360 with 1 Axes>"
      ]
     },
     "metadata": {
      "needs_background": "light"
     },
     "output_type": "display_data"
    }
   ],
   "source": [
    "pred_img_set = pred_out.unsqueeze(dim= 1)[10:14]\n",
    " \n",
    "\n",
    "plt.figure(figsize=(5,5))\n",
    "plt.imshow(cv2.cvtColor(make_grid(pred_img_set.abs().detach().cpu(), nrow=2, padding= 1).permute(1,2,0).numpy(), cv2.COLOR_RGB2GRAY),vmin = 0, vmax =1)\n",
    "\n",
    "\n",
    "plt.title('Reconstructed : Intensity')"
   ]
  },
  {
   "cell_type": "code",
   "execution_count": 8,
   "metadata": {
    "id": "BA959tSBMWlR"
   },
   "outputs": [],
   "source": []
  }
 ],
 "metadata": {
  "accelerator": "GPU",
  "colab": {
   "authorship_tag": "ABX9TyOwO3jXR0urSwZFS2aWf6uZ",
   "collapsed_sections": [],
   "include_colab_link": true,
   "name": "d2nn_pretrained_model_inference_colab.ipynb",
   "provenance": []
  },
  "kernelspec": {
   "display_name": "Python 3",
   "language": "python",
   "name": "python3"
  },
  "language_info": {
   "codemirror_mode": {
    "name": "ipython",
    "version": 3
   },
   "file_extension": ".py",
   "mimetype": "text/x-python",
   "name": "python",
   "nbconvert_exporter": "python",
   "pygments_lexer": "ipython3",
   "version": "3.8.8"
  }
 },
 "nbformat": 4,
 "nbformat_minor": 4
}
