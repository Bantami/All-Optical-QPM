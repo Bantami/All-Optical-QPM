{
  "cells": [
    {
      "cell_type": "markdown",
      "metadata": {
        "id": "view-in-github",
        "colab_type": "text"
      },
      "source": [
        "<a href=\"https://colab.research.google.com/github/Bantami/All-Optical-QPM/blob/main/Colab/lff_pretrained_model_inference_colab.ipynb\" target=\"_parent\"><img src=\"https://colab.research.google.com/assets/colab-badge.svg\" alt=\"Open In Colab\"/></a>"
      ]
    },
    {
      "cell_type": "markdown",
      "id": "5402f84a-6ea3-4763-b860-786f55212cd0",
      "metadata": {
        "id": "5402f84a-6ea3-4763-b860-786f55212cd0"
      },
      "source": [
        "### Colab Setting up Scripts\n",
        "\n",
        "\n",
        "*   Downloading repository, dataset and models\n",
        "*   Install pip packages\n"
      ]
    },
    {
      "cell_type": "code",
      "execution_count": 1,
      "id": "HvH5kirsClqB",
      "metadata": {
        "colab": {
          "base_uri": "https://localhost:8080/"
        },
        "id": "HvH5kirsClqB",
        "outputId": "d5678f6d-1178-4a80-bd91-e08aea810d9c"
      },
      "outputs": [
        {
          "output_type": "stream",
          "name": "stdout",
          "text": [
            "Cloning into 'All-Optical-QPM'...\n",
            "remote: Enumerating objects: 62, done.\u001b[K\n",
            "remote: Counting objects: 100% (62/62), done.\u001b[K\n",
            "remote: Compressing objects: 100% (62/62), done.\u001b[K\n",
            "remote: Total 62 (delta 24), reused 0 (delta 0), pack-reused 0\u001b[K\n",
            "Unpacking objects: 100% (62/62), done.\n",
            "\u001b[K     |████████████████████████████████| 631 kB 7.4 MB/s \n",
            "\u001b[?25h  Building wheel for imgaug (setup.py) ... \u001b[?25l\u001b[?25hdone\n",
            "\u001b[K     |████████████████████████████████| 232 kB 3.8 MB/s \n",
            "\u001b[K     |████████████████████████████████| 49.9 MB 47 kB/s \n",
            "\u001b[?25hDownloading...\n",
            "From: https://drive.google.com/uc?id=1ickDfs6bA-YM7RQSaMPRqFnC7YApjW8e\n",
            "To: /content/hela.zip\n",
            "100% 303M/303M [00:02<00:00, 136MB/s]\n",
            "Downloading...\n",
            "From: https://drive.google.com/uc?id=1tHBWjNJPRHf1VX0XJicLIKs8av43_TPz\n",
            "To: /content/models.zip\n",
            "100% 3.27M/3.27M [00:00<00:00, 270MB/s]\n"
          ]
        }
      ],
      "source": [
        "!git clone https://github.com/Bantami/All-Optical-QPM.git\n",
        "\n",
        "!chmod 755 All-Optical-QPM/colab_setup.sh\n",
        "!All-Optical-QPM/colab_setup.sh"
      ]
    },
    {
      "cell_type": "markdown",
      "id": "7ca60a73-811c-4eca-a1b1-1fae6b884763",
      "metadata": {
        "id": "7ca60a73-811c-4eca-a1b1-1fae6b884763"
      },
      "source": [
        "### Import Libraries"
      ]
    },
    {
      "cell_type": "code",
      "execution_count": 2,
      "id": "b20b1b63-f4ef-460d-b390-c5137461943e",
      "metadata": {
        "id": "b20b1b63-f4ef-460d-b390-c5137461943e"
      },
      "outputs": [],
      "source": [
        "import sys\n",
        "sys.path.append('All-Optical-QPM')\n",
        "\n",
        "\n",
        "from torch import nn\n",
        "from collections import OrderedDict\n",
        "import torch\n",
        "import numpy as np\n",
        "import matplotlib.pyplot as plt\n",
        "import cv2\n",
        "from skimage.transform import resize\n",
        "from torchvision import datasets, transforms\n",
        "import math\n",
        "from torch.utils.data import Dataset\n",
        "from torch.utils.data import DataLoader\n",
        "from PIL import Image\n",
        "import glob\n",
        "import os\n",
        "import json\n",
        "\n",
        "from modules.dataloaders import *\n",
        "from modules.diffraction import *\n",
        "from modules.fourier_model import *\n",
        "from modules.eval_metrics import *\n",
        "from modules.vis_utils import *"
      ]
    },
    {
      "cell_type": "markdown",
      "id": "e4f5158a-c49e-4d0c-b17a-0fb22b511a27",
      "metadata": {
        "id": "e4f5158a-c49e-4d0c-b17a-0fb22b511a27"
      },
      "source": [
        "## Use Pretrained Models: Model Selection and Loading"
      ]
    },
    {
      "cell_type": "code",
      "execution_count": 3,
      "id": "21aec3bf-5619-4f0f-af8d-f97759e03849",
      "metadata": {
        "id": "21aec3bf-5619-4f0f-af8d-f97759e03849"
      },
      "outputs": [],
      "source": [
        "pretrained_models = {\n",
        "    'MNIST'       : 'MNIST_lff',\n",
        "    'HeLa [0,Pi]' : 'Hela_pi_lff',\n",
        "    'HeLa [0,2Pi]': 'Hela_2pi_lff',\n",
        "\n",
        "} \n",
        "\n",
        "# Selecting a pretrained model\n",
        "data_type = 'HeLa [0,Pi]' \n",
        "model = pretrained_models[data_type]"
      ]
    },
    {
      "cell_type": "code",
      "execution_count": 4,
      "id": "c92a4af2-7ef1-4829-b80b-65d434fce72d",
      "metadata": {
        "id": "c92a4af2-7ef1-4829-b80b-65d434fce72d"
      },
      "outputs": [],
      "source": [
        "folder = 'models/'\n",
        "\n",
        "model_name = f'{model}.pth'\n",
        "\n",
        "saved = torch.load(folder + model_name) # Loading pretrained model\n",
        "\n",
        "cfg   = saved['cfg']\n",
        "\n",
        "if data_type == 'HeLa [0,2Pi]': # Renaming layer number due to the incompatibility in the layer number in the pretrained model with the current fourier_model layer naming convention \n",
        "    temp_dict = OrderedDict()\n",
        "    keys = saved['state_dict'].keys()\n",
        "    for key in keys:\n",
        "        if 'layer_blocks' in key:\n",
        "            temp_dict['layer_blocks.0.'+key[15:]] = saved['state_dict'][key]\n",
        "        else:\n",
        "            temp_dict[key] = saved['state_dict'][key]\n",
        "            \n",
        "    saved['state_dict'] = temp_dict"
      ]
    },
    {
      "cell_type": "code",
      "execution_count": 5,
      "id": "b1cc8e47-c6f2-402a-bafb-bd8cfff9cf8e",
      "metadata": {
        "colab": {
          "base_uri": "https://localhost:8080/"
        },
        "id": "b1cc8e47-c6f2-402a-bafb-bd8cfff9cf8e",
        "outputId": "c8b9c986-d972-43e0-87d7-d725691dfd51"
      },
      "outputs": [
        {
          "output_type": "stream",
          "name": "stdout",
          "text": [
            "Learnable transmission coefficient: Amplitude and Phase\n",
            "loading weights ... \n"
          ]
        },
        {
          "output_type": "execute_result",
          "data": {
            "text/plain": [
              "fourier_model(\n",
              "  (layer_blocks): ModuleList(\n",
              "    (0): fourier_layer()\n",
              "  )\n",
              ")"
            ]
          },
          "metadata": {},
          "execution_count": 5
        }
      ],
      "source": [
        "if data_type == 'HeLa [0,2Pi]':\n",
        "    cfg['model'] = 'fourier_model'\n",
        "\n",
        "model = eval(cfg['model'])(cfg).to(cfg['device'])\n",
        "model.load_state_dict(saved['state_dict'])\n",
        "model.eval()"
      ]
    },
    {
      "cell_type": "markdown",
      "id": "d740c1d3-76a6-4d6b-908e-525b62057cab",
      "metadata": {
        "id": "d740c1d3-76a6-4d6b-908e-525b62057cab"
      },
      "source": [
        "### Loading Configs"
      ]
    },
    {
      "cell_type": "code",
      "execution_count": 6,
      "id": "f8e443fa-b218-4cce-9c6b-f880afb99e81",
      "metadata": {
        "colab": {
          "base_uri": "https://localhost:8080/"
        },
        "id": "f8e443fa-b218-4cce-9c6b-f880afb99e81",
        "outputId": "749c1af4-0509-463b-98cf-64bca927d575"
      },
      "outputs": [
        {
          "output_type": "stream",
          "name": "stdout",
          "text": [
            "get_qpm_np_dataloaders\n",
            "68\n"
          ]
        }
      ],
      "source": [
        "torch.manual_seed(cfg['torch_seed'])\n",
        "\n",
        "shrinkFactor = cfg['shrink_factor'] if 'shrink_factor' in cfg else 1\n",
        "img_size     = cfg['img_size']\n",
        "angle_max    = eval(cfg['angle_max'])\n",
        "inp_circular = cfg['input_circular'] if 'input_circular' in cfg.keys() else False # If the input field is propagated through a circular aperture\n",
        "device = cfg['device']\n",
        "    \n",
        "if inp_circular: # Creating a circular mask to apply on the input\n",
        "    rc = (img_size//2)//shrinkFactor\n",
        "    xc = torch.arange(-img_size//2,img_size//2,1) \n",
        "    xc = torch.tile(xc, (1,img_size)).view(img_size,img_size).to(torch.cfloat)\n",
        "\n",
        "    yc = torch.arange(img_size//2,-img_size//2,-1).view(img_size,1)\n",
        "    yc = torch.tile(yc, (1,img_size)).view(img_size,img_size).to(torch.cfloat)\n",
        "\n",
        "    circ = (abs(xc)**2 + abs(yc)**2 <= (rc)**2).to(torch.float32).view(1,img_size,img_size).to(device)\n",
        "else:\n",
        "    circ = torch.ones(1,img_size,img_size).to(device)\n",
        "\n",
        "if(shrinkFactor!=1):\n",
        "    # To obtain the starting position and ending position of the original image within the padded image \n",
        "    csize = int(img_size/shrinkFactor)\n",
        "    spos  = int((img_size - csize)/2)\n",
        "    epos  = spos + csize\n",
        "else:\n",
        "    spos = 0\n",
        "    epos = img_size\n",
        "    \n",
        "dataloader = eval(cfg['get_dataloaders'])\n",
        "print(cfg['get_dataloaders'])\n",
        "\n",
        "train_loader, val_loader =  dataloader(cfg['img_size'], cfg['train_batch_size'], cfg['torch_seed'],  task_type= cfg['task_type'], shrinkFactor = shrinkFactor, cfg = cfg)\n",
        "print(len(val_loader))"
      ]
    },
    {
      "cell_type": "markdown",
      "id": "380fc8b7-422e-412a-91cb-67d627c6336e",
      "metadata": {
        "id": "380fc8b7-422e-412a-91cb-67d627c6336e"
      },
      "source": [
        "### Run Inference on unseen data"
      ]
    },
    {
      "cell_type": "code",
      "execution_count": 7,
      "id": "96c4fe57-22b8-4248-8f75-e1761a67874b",
      "metadata": {
        "colab": {
          "base_uri": "https://localhost:8080/"
        },
        "id": "96c4fe57-22b8-4248-8f75-e1761a67874b",
        "outputId": "9f4adbcb-944d-45ba-c7fe-7c42510f685e"
      },
      "outputs": [
        {
          "output_type": "stream",
          "name": "stdout",
          "text": [
            "Mean SSIM =  0.7216695867040578\n"
          ]
        }
      ],
      "source": [
        "ssim_scores = []\n",
        "\n",
        "for idx, (x, y) in enumerate(val_loader):  # Test loop \n",
        "    gt = x[:,0].to(cfg['device']) * circ # Groung truth image (input)\n",
        "    pred_img,out_scale = model(gt) \n",
        "\n",
        "    \n",
        "    pred_img = pred_img[:,spos:epos,spos:epos] # Crop the reconstructed image\n",
        "    gt       = gt[:,spos:epos,spos:epos]       # Crop the groundtruth image\n",
        "    \n",
        "    pred_out = out_scale * pred_img.abs()**2\n",
        "\n",
        "    if(cfg['get_dataloaders']==\"get_mnist_dataloaders\"):\n",
        "        gt_angle = ((gt.angle()%(2*np.pi))/angle_max)\n",
        "    else:\n",
        "        # CLIP ANGLE TO -> [0, angle_max]\n",
        "        y = torch.clip(y, min= 0, max= angle_max).to(device) * circ\n",
        "        gt_angle = y[:,0].to(cfg['device'])[:,spos:epos,spos:epos] / angle_max\n",
        "        \n",
        "    pred_out = pred_out.to(torch.float32)\n",
        "    ssim_scores.append(ssim_pytorch(pred_out, gt_angle, k= 11,range_independent=False))\n",
        "    \n",
        "\n",
        "print(\"Mean SSIM = \", np.mean(ssim_scores))"
      ]
    },
    {
      "cell_type": "code",
      "execution_count": 8,
      "id": "4a1e641f-7530-42ad-8640-453d1d5df6d5",
      "metadata": {
        "colab": {
          "base_uri": "https://localhost:8080/",
          "height": 354
        },
        "id": "4a1e641f-7530-42ad-8640-453d1d5df6d5",
        "outputId": "4ede8531-8120-4042-8fc4-1a201fc802c3"
      },
      "outputs": [
        {
          "output_type": "execute_result",
          "data": {
            "text/plain": [
              "<matplotlib.image.AxesImage at 0x7f27c141b810>"
            ]
          },
          "metadata": {},
          "execution_count": 8
        },
        {
          "output_type": "display_data",
          "data": {
            "text/plain": [
              "<Figure size 360x360 with 1 Axes>"
            ],
            "image/png": "[encoded data removed]"
          },
          "metadata": {
            "needs_background": "light"
          }
        }
      ],
      "source": [
        "# Plotting ground truth images\n",
        "gt_img_set = gt_angle.unsqueeze(dim= 1)[10:14]\n",
        "\n",
        "k = gt_img_set.detach().cpu()\n",
        "k = cv2.cvtColor(make_grid(k, nrow=2, padding= 1).permute(1,2,0).numpy(), cv2.COLOR_RGB2GRAY)\n",
        "\n",
        "\n",
        "plt.figure(figsize=(5,5))\n",
        "plt.title(\"Grountruth Phase\")\n",
        "plt.imshow(k)"
      ]
    },
    {
      "cell_type": "code",
      "execution_count": 9,
      "id": "4fbc648b-e042-4ee5-b5dc-d16fb4c2a07b",
      "metadata": {
        "colab": {
          "base_uri": "https://localhost:8080/",
          "height": 354
        },
        "id": "4fbc648b-e042-4ee5-b5dc-d16fb4c2a07b",
        "outputId": "44ffec4d-2123-4cc9-a0fb-e2639bc7ca88"
      },
      "outputs": [
        {
          "output_type": "execute_result",
          "data": {
            "text/plain": [
              "Text(0.5, 1.0, 'Reconstructed : Intensity')"
            ]
          },
          "metadata": {},
          "execution_count": 9
        },
        {
          "output_type": "display_data",
          "data": {
            "text/plain": [
              "<Figure size 360x360 with 1 Axes>"
            ],
            "image/png": "[encoded data removed]"
          },
          "metadata": {
            "needs_background": "light"
          }
        }
      ],
      "source": [
        "# Plotting the corresponding reconstructed images\n",
        "pred_img_set = pred_out.unsqueeze(dim= 1)[10:14]\n",
        " \n",
        "\n",
        "plt.figure(figsize=(5,5))\n",
        "plt.imshow(cv2.cvtColor(make_grid(pred_img_set.abs().detach().cpu(), nrow=2, padding= 1).permute(1,2,0).numpy(), cv2.COLOR_RGB2GRAY),vmin = 0, vmax =1)\n",
        "plt.title('Reconstructed : Intensity')"
      ]
    }
  ],
  "metadata": {
    "accelerator": "GPU",
    "colab": {
      "name": "lff_inference.ipynb",
      "provenance": [],
      "include_colab_link": true
    },
    "kernelspec": {
      "display_name": "FYPD2NN",
      "language": "python",
      "name": "fypd2nn"
    },
    "language_info": {
      "codemirror_mode": {
        "name": "ipython",
        "version": 3
      },
      "file_extension": ".py",
      "mimetype": "text/x-python",
      "name": "python",
      "nbconvert_exporter": "python",
      "pygments_lexer": "ipython3",
      "version": "3.6.13"
    }
  },
  "nbformat": 4,
  "nbformat_minor": 5
}